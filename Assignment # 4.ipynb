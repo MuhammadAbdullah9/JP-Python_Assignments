{
 "cells": [
  {
   "cell_type": "markdown",
   "id": "0b0068df",
   "metadata": {},
   "source": [
    "# Assignment # 4"
   ]
  },
  {
   "cell_type": "markdown",
   "id": "430685b8",
   "metadata": {},
   "source": [
    "Question # 1"
   ]
  },
  {
   "cell_type": "code",
   "execution_count": 1,
   "id": "a8467751",
   "metadata": {},
   "outputs": [
    {
     "name": "stdout",
     "output_type": "stream",
     "text": [
      "Enter a number: 3\n",
      "Enter second number: 3\n",
      "Enter the operator: '+', '-', '*', '/', '^(power)' ^\n",
      "27\n"
     ]
    }
   ],
   "source": [
    "num0 = int(input(\"Enter a number: \"))\n",
    "num1 = int(input(\"Enter second number: \"))\n",
    "op = input(\"Enter the operator: '+', '-', '*', '/', '^(power)' \")\n",
    "\n",
    "if op == '+':\n",
    "    print(num0 + num1)\n",
    "    \n",
    "elif op == '-':\n",
    "    print(num0-num1)\n",
    "\n",
    "elif op == '*':\n",
    "    print(num0*num1)\n",
    "    \n",
    "elif op == '/':\n",
    "    print(num0/num1)\n",
    "\n",
    "elif op == '^':\n",
    "    print(num0**num1)\n",
    "\n",
    "else:\n",
    "    print('invalid operator')"
   ]
  },
  {
   "cell_type": "markdown",
   "id": "dd2ba6c2",
   "metadata": {},
   "source": [
    "<b>Question # 2<b>"
   ]
  },
  {
   "cell_type": "code",
   "execution_count": 2,
   "id": "2cea0914",
   "metadata": {},
   "outputs": [
    {
     "name": "stdout",
     "output_type": "stream",
     "text": [
      "there are 3 number of numeric value(s) in given list\n"
     ]
    }
   ],
   "source": [
    "list1 = [2, 3, 4 , \"ali\", \"ahmad\", int, object]\n",
    "count = 0\n",
    "\n",
    "for numeric in list1:\n",
    "    if type(numeric) == int:\n",
    "        count += 1\n",
    "\n",
    "print(f\"there are {count} number of numeric value(s) in given list\")"
   ]
  },
  {
   "cell_type": "markdown",
   "id": "4ca0a979",
   "metadata": {},
   "source": [
    "<b>Question # 3<b>"
   ]
  },
  {
   "cell_type": "code",
   "execution_count": 3,
   "id": "b7607e9f",
   "metadata": {},
   "outputs": [
    {
     "name": "stdout",
     "output_type": "stream",
     "text": [
      "dictionary before adding key : {'name': 'Abdullah', 'FatherName': 'Imtiaz', 'program': 'Python By JawanPakistan'}\n",
      "\n",
      "dictionary after adding key : {'name': 'Abdullah', 'FatherName': 'Imtiaz', 'program': 'Python By JawanPakistan', 'assignmentNumber': 4}\n"
     ]
    }
   ],
   "source": [
    "dict1 = {'name' : \"Abdullah\", \"FatherName\" : \"Imtiaz\", \"program\" : \"Python By JawanPakistan\"}\n",
    "\n",
    "print(f\"dictionary before adding key : {dict1}\\n\")\n",
    "\n",
    "dict1['assignmentNumber'] = 4\n",
    "\n",
    "print(f\"dictionary after adding key : {dict1}\")\n"
   ]
  },
  {
   "cell_type": "markdown",
   "id": "2eaa288c",
   "metadata": {},
   "source": [
    "<b> Question # 4 <b>"
   ]
  },
  {
   "cell_type": "code",
   "execution_count": 4,
   "id": "7c05f3a1",
   "metadata": {},
   "outputs": [
    {
     "name": "stdout",
     "output_type": "stream",
     "text": [
      "34\n"
     ]
    }
   ],
   "source": [
    "dict2 = {\"num1\": 10, \"num2\" : 3, 10:\"ten\", 11:'eleven', 'type(int)' : \"object\"}\n",
    "keys=0\n",
    "values=0\n",
    "\n",
    "for key in dict2.keys():\n",
    "    if type(key)==int:\n",
    "        keys += key\n",
    "        \n",
    "for val in dict2.values():\n",
    "    if type(val)==int:\n",
    "        values += val\n",
    "        \n",
    "print(values + keys)"
   ]
  },
  {
   "cell_type": "markdown",
   "id": "88602bfc",
   "metadata": {},
   "source": [
    "<b> Question # 5 <b>"
   ]
  },
  {
   "cell_type": "code",
   "execution_count": 5,
   "id": "2b217d8d",
   "metadata": {},
   "outputs": [
    {
     "name": "stdout",
     "output_type": "stream",
     "text": [
      "2 3 4 ali 5 <class 'int'> "
     ]
    }
   ],
   "source": [
    "l=['ali', 2, int, 3, 4, 5, 2, 3, 4, 'ali', 9, 5, int]\n",
    "l1=[]\n",
    "for i in l:\n",
    "    if i not in l1:\n",
    "        l1.append(i)\n",
    "    else:\n",
    "        print(i,end=' ')"
   ]
  },
  {
   "cell_type": "markdown",
   "id": "32bacca5",
   "metadata": {},
   "source": [
    "<b> Question # 6 <b>"
   ]
  },
  {
   "cell_type": "code",
   "execution_count": 6,
   "id": "17858d4d",
   "metadata": {},
   "outputs": [
    {
     "name": "stdout",
     "output_type": "stream",
     "text": [
      "enter a key to check :num3\n",
      "\n",
      " dict_keys(['num1', 'num2', 10, 11, 'type(int)']) \n",
      "\n",
      "num3 doesn't exist\n"
     ]
    }
   ],
   "source": [
    "key = input(\"enter a key to check :\")\n",
    "print(f\"\\n {dict2.keys()} \\n\")\n",
    "\n",
    "if key in dict2.keys():\n",
    "    print(f\"{key} already exists\")\n",
    "    \n",
    "else:\n",
    "    print(f\"{key} doesn't exist\")\n"
   ]
  },
  {
   "cell_type": "code",
   "execution_count": null,
   "id": "fef06fc4",
   "metadata": {},
   "outputs": [],
   "source": []
  }
 ],
 "metadata": {
  "kernelspec": {
   "display_name": "pythonJP",
   "language": "python",
   "name": "pythonjp"
  },
  "language_info": {
   "codemirror_mode": {
    "name": "ipython",
    "version": 3
   },
   "file_extension": ".py",
   "mimetype": "text/x-python",
   "name": "python",
   "nbconvert_exporter": "python",
   "pygments_lexer": "ipython3",
   "version": "3.9.7"
  }
 },
 "nbformat": 4,
 "nbformat_minor": 5
}
